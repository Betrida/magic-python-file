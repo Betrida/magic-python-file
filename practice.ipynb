{
 "cells": [
  {
   "cell_type": "code",
   "execution_count": 6,
   "id": "2e6639cf",
   "metadata": {},
   "outputs": [
    {
     "name": "stdout",
     "output_type": "stream",
     "text": [
      "Betrida Betrida Betrida Betrida Betrida Betrida Betrida Betrida Betrida Betrida Betrida Betrida Betrida Betrida Betrida Betrida Betrida Betrida Betrida Betrida Betrida Betrida Betrida Betrida Betrida Betrida Betrida Betrida Betrida Betrida Betrida Betrida Betrida Betrida Betrida Betrida Betrida Betrida Betrida Betrida Betrida Betrida Betrida Betrida Betrida Betrida Betrida Betrida Betrida "
     ]
    }
   ],
   "source": [
    "for i in range(1,50):\n",
    "    print(\"Betrida\", end=\" \")"
   ]
  },
  {
   "cell_type": "code",
   "execution_count": 8,
   "id": "e0bf662e",
   "metadata": {},
   "outputs": [
    {
     "name": "stdout",
     "output_type": "stream",
     "text": [
      "1 --- 1\n",
      "2 --- 4\n",
      "3 --- 9\n",
      "4 --- 16\n",
      "5 --- 25\n",
      "6 --- 36\n",
      "7 --- 49\n",
      "8 --- 64\n",
      "9 --- 81\n",
      "10 --- 100\n",
      "11 --- 121\n",
      "12 --- 144\n",
      "13 --- 169\n",
      "14 --- 196\n",
      "15 --- 225\n",
      "16 --- 256\n",
      "17 --- 289\n",
      "18 --- 324\n",
      "19 --- 361\n",
      "20 --- 400\n"
     ]
    }
   ],
   "source": [
    "for i in range(1,21):\n",
    "    print(i,\"---\",i**2)"
   ]
  },
  {
   "cell_type": "code",
   "execution_count": 10,
   "id": "68c3e5b1",
   "metadata": {},
   "outputs": [
    {
     "name": "stdout",
     "output_type": "stream",
     "text": [
      "8 11 14 17 20 23 26 29 32 35 38 41 44 47 50 53 56 59 62 65 68 71 74 77 80 83 86 89 "
     ]
    }
   ],
   "source": [
    "for i in range(8,90,3):\n",
    "    print(i,end=\" \")"
   ]
  },
  {
   "cell_type": "code",
   "execution_count": 18,
   "id": "d42da5ff",
   "metadata": {},
   "outputs": [
    {
     "name": "stdout",
     "output_type": "stream",
     "text": [
      "AAAAAAAAAABBBBBBBBCDCDCDCDEFFFFFFG\n"
     ]
    }
   ],
   "source": [
    "for i in range(1,11):\n",
    "    print(\"A\",end=\"\")\n",
    "for i in range(1,9):\n",
    "    print(\"B\",end=\"\")\n",
    "for i in range(1,5):\n",
    "    print(\"CD\",end=\"\")\n",
    "print(\"E\",end=\"\")\n",
    "for i in range(1,7):\n",
    "    print(\"F\",end=\"\")\n",
    "print(\"G\")"
   ]
  },
  {
   "cell_type": "code",
   "execution_count": 41,
   "id": "0d1b8858",
   "metadata": {},
   "outputs": [
    {
     "name": "stdout",
     "output_type": "stream",
     "text": [
      "Enter a number: 7\n",
      "1,1,2,3,5,8,13,"
     ]
    }
   ],
   "source": [
    "n=eval(input(\"Enter a number: \"))\n",
    "a=0\n",
    "b=1\n",
    "print(int(1), end=\",\")\n",
    "for i in range(1, n):\n",
    "            c = a + b\n",
    "            a = b\n",
    "            b = c\n",
    "            print(b, end=\",\")\n",
    "        "
   ]
  },
  {
   "cell_type": "code",
   "execution_count": 32,
   "id": "fe869fed",
   "metadata": {},
   "outputs": [
    {
     "name": "stdout",
     "output_type": "stream",
     "text": [
      "Enter a number: 7\n",
      "1\n",
      "1\n",
      "3\n",
      "6\n",
      "10\n",
      "15\n",
      "21\n",
      "28\n"
     ]
    }
   ],
   "source": [
    "n=eval(input(\"Enter a number: \"))\n",
    "print(int(1))\n",
    "x=0\n",
    "i=1\n",
    "while i<=n:\n",
    "    x=x+i\n",
    "    i=i+1\n",
    "    print(x)"
   ]
  },
  {
   "cell_type": "code",
   "execution_count": null,
   "id": "cffbd6ce",
   "metadata": {},
   "outputs": [],
   "source": []
  },
  {
   "cell_type": "code",
   "execution_count": 46,
   "id": "29ed16a3",
   "metadata": {},
   "outputs": [
    {
     "name": "stdout",
     "output_type": "stream",
     "text": [
      "6,5,3,6,4,5,3,5,3,4,4,4,4,4,4,6,6,5,6,5,5,5,6,4,3,3,5,5,6,5,3,4,6,6,5,4,3,3,3,5,6,4,5,5,6,3,3,5,3,6,"
     ]
    }
   ],
   "source": [
    "from random import randint\n",
    "for i in range(1, 51):\n",
    "    x = randint(3,6)\n",
    "    print(x, end=\",\")"
   ]
  },
  {
   "cell_type": "code",
   "execution_count": 50,
   "id": "274d8865",
   "metadata": {},
   "outputs": [
    {
     "name": "stdout",
     "output_type": "stream",
     "text": [
      "3 5\n",
      "243\n"
     ]
    }
   ],
   "source": [
    "from random import randint\n",
    "x = randint(1,5)\n",
    "y = randint(2,5)\n",
    "print(x,y)\n",
    "print(x**y)"
   ]
  },
  {
   "cell_type": "code",
   "execution_count": 51,
   "id": "25403363",
   "metadata": {},
   "outputs": [
    {
     "data": {
      "text/plain": [
       "243"
      ]
     },
     "execution_count": 51,
     "metadata": {},
     "output_type": "execute_result"
    }
   ],
   "source": [
    "3**5"
   ]
  },
  {
   "cell_type": "code",
   "execution_count": 59,
   "id": "f70ccf6c",
   "metadata": {},
   "outputs": [
    {
     "name": "stdout",
     "output_type": "stream",
     "text": [
      "2.79\n"
     ]
    }
   ],
   "source": [
    "import random\n",
    "x=round(random.uniform(1,10), 2)\n",
    "print(x)"
   ]
  },
  {
   "cell_type": "markdown",
   "id": "da2aa8f8",
   "metadata": {},
   "source": [
    "QUESTION 1:\n",
    "The program that prints a string backwards"
   ]
  },
  {
   "cell_type": "code",
   "execution_count": 3,
   "id": "2aaca979",
   "metadata": {},
   "outputs": [
    {
     "name": "stdout",
     "output_type": "stream",
     "text": [
      "Enter a string: Keith Mushininga\n"
     ]
    },
    {
     "data": {
      "text/plain": [
       "'agninihsuM htieK'"
      ]
     },
     "execution_count": 3,
     "metadata": {},
     "output_type": "execute_result"
    }
   ],
   "source": [
    "n = input(\"Enter a string: \")\n",
    "n[::-1]"
   ]
  },
  {
   "cell_type": "code",
   "execution_count": 6,
   "id": "94e59af6",
   "metadata": {},
   "outputs": [
    {
     "name": "stdout",
     "output_type": "stream",
     "text": [
      "Enter a string: kHABIOMPU\n",
      "M\n"
     ]
    }
   ],
   "source": [
    "n = input(\"Enter a string: \")\n",
    "if len(n)>=7:\n",
    "    print(n[6])\n",
    "else:\n",
    "    print(\"The string you entered is not long enough\")"
   ]
  },
  {
   "cell_type": "code",
   "execution_count": 7,
   "id": "681b736d",
   "metadata": {},
   "outputs": [
    {
     "name": "stdout",
     "output_type": "stream",
     "text": [
      "Enter a string: BETRIDA\n"
     ]
    },
    {
     "data": {
      "text/plain": [
       "'ETRID'"
      ]
     },
     "execution_count": 7,
     "metadata": {},
     "output_type": "execute_result"
    }
   ],
   "source": [
    "n = input(\"Enter a string: \")\n",
    "n[1:-1]"
   ]
  },
  {
   "cell_type": "code",
   "execution_count": 8,
   "id": "2e5a8448",
   "metadata": {},
   "outputs": [
    {
     "name": "stdout",
     "output_type": "stream",
     "text": [
      "Enter a string: betty\n"
     ]
    },
    {
     "data": {
      "text/plain": [
       "'BETTY'"
      ]
     },
     "execution_count": 8,
     "metadata": {},
     "output_type": "execute_result"
    }
   ],
   "source": [
    "n = input(\"Enter a string: \")\n",
    "n.upper()"
   ]
  },
  {
   "cell_type": "code",
   "execution_count": 16,
   "id": "b2c135ec",
   "metadata": {},
   "outputs": [
    {
     "name": "stdout",
     "output_type": "stream",
     "text": [
      "mertataaa\n"
     ]
    },
    {
     "data": {
      "text/plain": [
       "'merteteee'"
      ]
     },
     "execution_count": 16,
     "metadata": {},
     "output_type": "execute_result"
    }
   ],
   "source": [
    "n = input(\"\")\n",
    "n.replace(\"a\", \"e\") \n",
    "     "
   ]
  },
  {
   "cell_type": "code",
   "execution_count": 22,
   "id": "267e0fdc",
   "metadata": {},
   "outputs": [
    {
     "name": "stdout",
     "output_type": "stream",
     "text": [
      "ab\n"
     ]
    },
    {
     "data": {
      "text/plain": [
       "'  '"
      ]
     },
     "execution_count": 22,
     "metadata": {},
     "output_type": "execute_result"
    }
   ],
   "source": [
    "n = input(\"\")\n",
    "n.replace(n,\" \"*len(n))"
   ]
  },
  {
   "cell_type": "code",
   "execution_count": 2,
   "id": "ddd01dac",
   "metadata": {},
   "outputs": [
    {
     "name": "stdout",
     "output_type": "stream",
     "text": [
      "Enter a string: jhhh\n",
      "1\n"
     ]
    }
   ],
   "source": [
    "n = input(\"Enter a string: \")\n",
    "print(n.count(\" \")+1)"
   ]
  },
  {
   "cell_type": "code",
   "execution_count": 7,
   "id": "66ff6e8f",
   "metadata": {
    "scrolled": false
   },
   "outputs": [
    {
     "name": "stdout",
     "output_type": "stream",
     "text": [
      "Enter a formula with parentheses: ((ggghd)0bbn)bcb()\n",
      "the number of opening and closing parenteses are equal\n"
     ]
    }
   ],
   "source": [
    "n = input(\"Enter a formula with parentheses: \")\n",
    "ope=n.count(\"(\")\n",
    "clo=n.count(\")\")\n",
    "if ope==clo:\n",
    "    print(\"the number of opening and closing parenteses are equal\")\n",
    "else:\n",
    "    print(\"the number of opening and closing parenteses are not equal\")"
   ]
  },
  {
   "cell_type": "code",
   "execution_count": 4,
   "id": "3675dbed",
   "metadata": {},
   "outputs": [
    {
     "data": {
      "text/plain": [
       "[1, 2, 4, 8, 16, 32, 64, 128, 256, 512, 1024]"
      ]
     },
     "execution_count": 4,
     "metadata": {},
     "output_type": "execute_result"
    }
   ],
   "source": [
    "f=[2**x for x in range(11)]\n",
    "f"
   ]
  },
  {
   "cell_type": "code",
   "execution_count": 7,
   "id": "8e0fc157",
   "metadata": {},
   "outputs": [
    {
     "name": "stdout",
     "output_type": "stream",
     "text": [
      "[[0, 5], [0, 4], [0, 3], [0, 2], [0, 1], [0, 0], [1, 5], [1, 4], [1, 3], [1, 2], [1, 1], [1, 0], [2, 5], [2, 4], [2, 3], [2, 2], [2, 1], [2, 0], [3, 5], [3, 4], [3, 3], [3, 2], [3, 1], [3, 0], [4, 5], [4, 4], [4, 3], [4, 2], [4, 1], [4, 0], [5, 5], [5, 4], [5, 3], [5, 2], [5, 1], [5, 0]]\n"
     ]
    }
   ],
   "source": [
    "a=[[x,y] for x in range(6) for y in range(5,-1,-1)]\n",
    "print(a)"
   ]
  },
  {
   "cell_type": "code",
   "execution_count": 11,
   "id": "a3088f6a",
   "metadata": {},
   "outputs": [
    {
     "name": "stdout",
     "output_type": "stream",
     "text": [
      "[[0, 5], [0, 3], [0, 1], [1, 5], [1, 3], [1, 1]]\n"
     ]
    }
   ],
   "source": [
    "p=[a[i-1] for i in range(1,12,2)]\n",
    "# p=a[:12:2]\n",
    "print(p)"
   ]
  },
  {
   "cell_type": "code",
   "execution_count": 12,
   "id": "6c2ec231",
   "metadata": {},
   "outputs": [
    {
     "name": "stdout",
     "output_type": "stream",
     "text": [
      "Enter a string: gfg\n"
     ]
    },
    {
     "data": {
      "text/plain": [
       "['__add__',\n",
       " '__class__',\n",
       " '__contains__',\n",
       " '__delattr__',\n",
       " '__dir__',\n",
       " '__doc__',\n",
       " '__eq__',\n",
       " '__format__',\n",
       " '__ge__',\n",
       " '__getattribute__',\n",
       " '__getitem__',\n",
       " '__getnewargs__',\n",
       " '__gt__',\n",
       " '__hash__',\n",
       " '__init__',\n",
       " '__init_subclass__',\n",
       " '__iter__',\n",
       " '__le__',\n",
       " '__len__',\n",
       " '__lt__',\n",
       " '__mod__',\n",
       " '__mul__',\n",
       " '__ne__',\n",
       " '__new__',\n",
       " '__reduce__',\n",
       " '__reduce_ex__',\n",
       " '__repr__',\n",
       " '__rmod__',\n",
       " '__rmul__',\n",
       " '__setattr__',\n",
       " '__sizeof__',\n",
       " '__str__',\n",
       " '__subclasshook__',\n",
       " 'capitalize',\n",
       " 'casefold',\n",
       " 'center',\n",
       " 'count',\n",
       " 'encode',\n",
       " 'endswith',\n",
       " 'expandtabs',\n",
       " 'find',\n",
       " 'format',\n",
       " 'format_map',\n",
       " 'index',\n",
       " 'isalnum',\n",
       " 'isalpha',\n",
       " 'isascii',\n",
       " 'isdecimal',\n",
       " 'isdigit',\n",
       " 'isidentifier',\n",
       " 'islower',\n",
       " 'isnumeric',\n",
       " 'isprintable',\n",
       " 'isspace',\n",
       " 'istitle',\n",
       " 'isupper',\n",
       " 'join',\n",
       " 'ljust',\n",
       " 'lower',\n",
       " 'lstrip',\n",
       " 'maketrans',\n",
       " 'partition',\n",
       " 'removeprefix',\n",
       " 'removesuffix',\n",
       " 'replace',\n",
       " 'rfind',\n",
       " 'rindex',\n",
       " 'rjust',\n",
       " 'rpartition',\n",
       " 'rsplit',\n",
       " 'rstrip',\n",
       " 'split',\n",
       " 'splitlines',\n",
       " 'startswith',\n",
       " 'strip',\n",
       " 'swapcase',\n",
       " 'title',\n",
       " 'translate',\n",
       " 'upper',\n",
       " 'zfill']"
      ]
     },
     "execution_count": 12,
     "metadata": {},
     "output_type": "execute_result"
    }
   ],
   "source": [
    "n = input(\"Enter a string: \")\n",
    "dir(n)\n",
    "# # vowel=[\"a,e,i,o,u\"]\n",
    "# n.find(a,e,i,o,u)\n",
    "#     print(\"has a vowel\")\n",
    "# else:\n",
    "#     print(\"no vowel\")"
   ]
  },
  {
   "cell_type": "code",
   "execution_count": 16,
   "id": "3763b088",
   "metadata": {},
   "outputs": [
    {
     "name": "stdout",
     "output_type": "stream",
     "text": [
      "Help on built-in function find:\n",
      "\n",
      "find(...) method of builtins.str instance\n",
      "    S.find(sub[, start[, end]]) -> int\n",
      "    \n",
      "    Return the lowest index in S where substring sub is found,\n",
      "    such that sub is contained within S[start:end].  Optional\n",
      "    arguments start and end are interpreted as in slice notation.\n",
      "    \n",
      "    Return -1 on failure.\n",
      "\n"
     ]
    }
   ],
   "source": [
    "x=\"egjh\"\n",
    "help(x.find)"
   ]
  },
  {
   "cell_type": "code",
   "execution_count": 19,
   "id": "fa58e367",
   "metadata": {},
   "outputs": [
    {
     "name": "stdout",
     "output_type": "stream",
     "text": [
      "Enter a string: fred\n",
      "no vowel\n"
     ]
    }
   ],
   "source": [
    "n = input(\"Enter a string: \")\n",
    "v=\"a,e,i\"\n",
    "if v in n:\n",
    "    print(\"there is a vowel\")\n",
    "else:\n",
    "    print(\"no vowel\")\n",
    "# help(n.find(\"a,e,i,o,u\"))"
   ]
  },
  {
   "cell_type": "code",
   "execution_count": 3,
   "id": "9af5d81b",
   "metadata": {},
   "outputs": [
    {
     "name": "stdout",
     "output_type": "stream",
     "text": [
      "Enter a string: my name is betrida muganda\n",
      "5\n"
     ]
    }
   ],
   "source": [
    "s=input(\"Enter a string: \")\n",
    "p=s.split()\n",
    "print(len(p))"
   ]
  },
  {
   "cell_type": "code",
   "execution_count": 2,
   "id": "f9f42cb0",
   "metadata": {},
   "outputs": [
    {
     "name": "stdout",
     "output_type": "stream",
     "text": [
      "Enter a string: bgjh((((gvvb))\n",
      "the number is the same\n"
     ]
    }
   ],
   "source": [
    "s=input(\"Enter a string: \")\n",
    "count1=0\n",
    "count2=0\n",
    "for i in s:\n",
    "    if i==\"(\":\n",
    "        count1=+1\n",
    "    elif i==\")\":\n",
    "        count2=+1\n",
    "if count1==count2:\n",
    "    print(\"the number is the same\")\n",
    "else:\n",
    "    print(\"they are not equal\")"
   ]
  },
  {
   "cell_type": "code",
   "execution_count": 4,
   "id": "15db0a30",
   "metadata": {},
   "outputs": [
    {
     "name": "stdout",
     "output_type": "stream",
     "text": [
      "Enter a string: fhchj(hsd))\n",
      "not equal\n"
     ]
    }
   ],
   "source": [
    "s=input(\"Enter a string: \")\n",
    "ope=s.count(\"(\")\n",
    "close=s.count(\")\")\n",
    "if ope==close:\n",
    "    print(\"equal\")\n",
    "else:\n",
    "    print(\"not equal\")"
   ]
  },
  {
   "cell_type": "code",
   "execution_count": 19,
   "id": "908556b3",
   "metadata": {},
   "outputs": [
    {
     "name": "stdout",
     "output_type": "stream",
     "text": [
      "Enter a word: Abeli\n",
      "3\n"
     ]
    }
   ],
   "source": [
    "s=input(\"Enter a word: \").upper()\n",
    "L=list(s)\n",
    "vowel=(\"aeiou\").upper()\n",
    "count=0\n",
    "for i in L:\n",
    "    if i in vowel:\n",
    "        count=count+1\n",
    "print(count)"
   ]
  },
  {
   "cell_type": "code",
   "execution_count": 26,
   "id": "df9a530b",
   "metadata": {},
   "outputs": [
    {
     "name": "stdout",
     "output_type": "stream",
     "text": [
      "Enter a string: Qwert\n",
      "Q*ert!!!\n"
     ]
    }
   ],
   "source": [
    "s=input(\"Enter a string: \")\n",
    "l=list(s)\n",
    "l[1]=\"*\"\n",
    "l.append(\"!!!\")\n",
    "# new_string=str(l)\n",
    "new_string=\"\"\n",
    "for i in l:\n",
    "    new_string=new_string+i\n",
    "print(new_string)"
   ]
  },
  {
   "cell_type": "code",
   "execution_count": 46,
   "id": "617c5c77",
   "metadata": {},
   "outputs": [
    {
     "name": "stdout",
     "output_type": "stream",
     "text": [
      "Enter a string: sdsd,hsgd,hbshd,hshd\n",
      "['s', 'd', 's', 'd', 'h', 's', 'g', 'd', 'h', 'b', 's', 'h', 'd', 'h', 's', 'h', 'd']\n",
      "sdsdhsgdhbshdhshd\n"
     ]
    }
   ],
   "source": [
    "s=input(\"Enter a string: \").lower()\n",
    "l=list(s)\n",
    "c=l.count(\",\")\n",
    "for i in range(c):\n",
    "    l.remove(\",\")\n",
    "print(l)\n",
    "\n",
    "new_string=\"\"\n",
    "for item in l:\n",
    "    new_string=new_string+item\n",
    "print(new_string)"
   ]
  },
  {
   "cell_type": "code",
   "execution_count": 50,
   "id": "04a62da9",
   "metadata": {},
   "outputs": [
    {
     "name": "stdout",
     "output_type": "stream",
     "text": [
      "Enter a string: dssdsfsdg\n",
      "not palindrome\n"
     ]
    }
   ],
   "source": [
    "s=input(\"Enter a string: \").lower()\n",
    "for i in range(len(s)):\n",
    "    if s[i]!=s[-i-1]:\n",
    "        print(\"not palindrome\")\n",
    "        break\n",
    "else:\n",
    "    print(\"palindrome\")"
   ]
  },
  {
   "cell_type": "code",
   "execution_count": 39,
   "id": "68340f50",
   "metadata": {},
   "outputs": [
    {
     "ename": "AttributeError",
     "evalue": "'list' object has no attribute 'strip'",
     "output_type": "error",
     "traceback": [
      "\u001b[0;31m---------------------------------------------------------------------------\u001b[0m",
      "\u001b[0;31mAttributeError\u001b[0m                            Traceback (most recent call last)",
      "\u001b[0;32m<ipython-input-39-41fff8fe3fc4>\u001b[0m in \u001b[0;36m<module>\u001b[0;34m\u001b[0m\n\u001b[0;32m----> 1\u001b[0;31m \u001b[0mhelp\u001b[0m\u001b[0;34m(\u001b[0m\u001b[0ml\u001b[0m\u001b[0;34m.\u001b[0m\u001b[0mstrip\u001b[0m\u001b[0;34m)\u001b[0m\u001b[0;34m\u001b[0m\u001b[0;34m\u001b[0m\u001b[0m\n\u001b[0m",
      "\u001b[0;31mAttributeError\u001b[0m: 'list' object has no attribute 'strip'"
     ]
    }
   ],
   "source": [
    "n=int(input(\"Enter the number of emails: \"))\n",
    "while i<=n:\n",
    "    s=input(\"Enter a the email address: \")\n",
    "    p=s.split()\n",
    "    for i in p:\n",
    "        if \"student\" not s:\n",
    "            print()"
   ]
  },
  {
   "cell_type": "code",
   "execution_count": 51,
   "id": "60019fd7",
   "metadata": {},
   "outputs": [
    {
     "ename": "NameError",
     "evalue": "name 'np' is not defined",
     "output_type": "error",
     "traceback": [
      "\u001b[0;31m---------------------------------------------------------------------------\u001b[0m",
      "\u001b[0;31mNameError\u001b[0m                                 Traceback (most recent call last)",
      "\u001b[0;32m<ipython-input-51-c912e6fb0c76>\u001b[0m in \u001b[0;36m<module>\u001b[0;34m\u001b[0m\n\u001b[0;32m----> 1\u001b[0;31m \u001b[0mc\u001b[0m\u001b[0;34m=\u001b[0m\u001b[0mnp\u001b[0m\u001b[0;34m.\u001b[0m\u001b[0marray\u001b[0m\u001b[0;34m(\u001b[0m\u001b[0;34m[\u001b[0m\u001b[0mx\u001b[0m\u001b[0;34m**\u001b[0m\u001b[0;36m3\u001b[0m \u001b[0;32mfor\u001b[0m \u001b[0mx\u001b[0m \u001b[0;32min\u001b[0m \u001b[0mrange\u001b[0m\u001b[0;34m(\u001b[0m\u001b[0;36m51\u001b[0m\u001b[0;34m)\u001b[0m\u001b[0;34m]\u001b[0m\u001b[0;34m)\u001b[0m\u001b[0;34m\u001b[0m\u001b[0;34m\u001b[0m\u001b[0m\n\u001b[0m\u001b[1;32m      2\u001b[0m \u001b[0mc\u001b[0m\u001b[0;34m\u001b[0m\u001b[0;34m\u001b[0m\u001b[0m\n",
      "\u001b[0;31mNameError\u001b[0m: name 'np' is not defined"
     ]
    }
   ],
   "source": []
  },
  {
   "cell_type": "code",
   "execution_count": null,
   "id": "c5a92828",
   "metadata": {},
   "outputs": [],
   "source": []
  }
 ],
 "metadata": {
  "kernelspec": {
   "display_name": "Python 3",
   "language": "python",
   "name": "python3"
  },
  "language_info": {
   "codemirror_mode": {
    "name": "ipython",
    "version": 3
   },
   "file_extension": ".py",
   "mimetype": "text/x-python",
   "name": "python",
   "nbconvert_exporter": "python",
   "pygments_lexer": "ipython3",
   "version": "3.9.2"
  }
 },
 "nbformat": 4,
 "nbformat_minor": 5
}
